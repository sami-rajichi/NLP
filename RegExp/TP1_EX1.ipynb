{
 "cells": [
  {
   "cell_type": "markdown",
   "metadata": {},
   "source": [
    "### **Imported Libraries**"
   ]
  },
  {
   "cell_type": "code",
   "execution_count": 929,
   "metadata": {},
   "outputs": [],
   "source": [
    "import re\n",
    "import os\n",
    "import pandas as pd\n",
    "from functools import reduce"
   ]
  },
  {
   "cell_type": "markdown",
   "metadata": {},
   "source": [
    "### **Processing Methods**"
   ]
  },
  {
   "cell_type": "code",
   "execution_count": 930,
   "metadata": {},
   "outputs": [],
   "source": [
    "# Define regular expressions that match each contact type\n",
    "# r'[^/][a-z]?(\\d{4})(?! is )  ?-?[\\u0621-\\u064AA-Za-z]+(?!. Tous|’)\\b'\n",
    "# \\b(?:Tel|T\\s?:?\\s?(?:\\(\\+216\\)|\\+216)?)?\\s?(\\d{2} \\d{3} \\d{3}|\\d{2} \\d{2} \\d{2} \\d{2}|\\d{2} \\d{6})\\b\n",
    "contact_re = {\n",
    "    'mails': re.compile(r'\\b(?:(?!mailto)\\w+)\\.?\\w+@\\w+\\.\\w+\\.?[a-z]*\\b'),\n",
    "    'code': re.compile(r\"[^/][a-z]?(\\d{4})(?! is )(?: - \\w{2,3} \\d+|  ?-?[\\u0621-\\u064AA-Za-z]+)(?!. Tous|’|. All)\\b\"),\n",
    "    'tels': re.compile(r'\\b(?:Tel|T\\s?:?\\s?(?:\\(\\+216\\)|\\+216)?)?\\s?(\\d{2} \\d{3} \\d{3}|\\d{2} \\d{2} \\d{2} \\d{2}|\\d{2} \\d{6})\\b')\n",
    "}"
   ]
  },
  {
   "cell_type": "code",
   "execution_count": 931,
   "metadata": {},
   "outputs": [],
   "source": [
    "def list_to_dict_of_counts(type_matches):\n",
    "    counts = dict()\n",
    "    for m in type_matches:\n",
    "        counts[m] = counts.get(m, 0) + 1\n",
    "    return counts"
   ]
  },
  {
   "cell_type": "code",
   "execution_count": 932,
   "metadata": {},
   "outputs": [],
   "source": [
    "def edit_phone_number_format(matches):\n",
    "    pattern = re.compile(r'\\b(?:Tel|T\\s?:?\\s?(?:\\(\\+216\\)|\\+216)?)?\\s?(\\d{2})\\s?(\\d{2})\\s?(\\d{2})\\s?(\\d{2})\\b')\n",
    "    if matches:\n",
    "        for m in range(len(matches)):\n",
    "            matches[m] = re.sub(pattern, r'(+216) \\1 \\2 \\3 \\4', ''.join(matches[m].split()))\n",
    "    return matches"
   ]
  },
  {
   "cell_type": "code",
   "execution_count": 933,
   "metadata": {},
   "outputs": [],
   "source": [
    "def fetch_matches_from_sys_file(file_url):\n",
    "    '''\n",
    "    This function ser\n",
    "    '''\n",
    "    contact_matches = {'mails':[], 'code':[], 'tels':[]}\n",
    "    with open(file=file_url) as f:\n",
    "        lines = f.readlines()\n",
    "        for line in lines:\n",
    "            for type, pattern in contact_re.items():\n",
    "                matches = pattern.findall(line)\n",
    "                if type == 'tels': \n",
    "                    matches = edit_phone_number_format(matches)\n",
    "                contact_matches[type].extend(matches)\n",
    "    \n",
    "    sys_matches = {}\n",
    "    for type in contact_matches:\n",
    "        sys_matches[type] = list_to_dict_of_counts(contact_matches[type])\n",
    "    sys_matches = {file_url.split('.')[1][1:]: sys_matches}\n",
    "    return sys_matches"
   ]
  },
  {
   "cell_type": "code",
   "execution_count": 934,
   "metadata": {},
   "outputs": [],
   "source": [
    "def get_htm_files(url='./'):\n",
    "    files = []\n",
    "    for f in os.listdir(url):\n",
    "        match = re.search(r'(.htm)$', f)\n",
    "        if match:\n",
    "            url_f = os.path.join(url, f)\n",
    "            files.append(url_f)\n",
    "        else: continue\n",
    "    return files"
   ]
  },
  {
   "cell_type": "code",
   "execution_count": 935,
   "metadata": {},
   "outputs": [],
   "source": [
    "def merge_dictionaries(dict1, dict2):\n",
    "    merged_dict = dict1.copy()\n",
    "    merged_dict.update(dict2)\n",
    "    return merged_dict"
   ]
  },
  {
   "cell_type": "code",
   "execution_count": 936,
   "metadata": {},
   "outputs": [
    {
     "name": "stdout",
     "output_type": "stream",
     "text": [
      "{\"ENET'Com\": {'mails': {'contact@enetcom.usf.tn': 3}, 'code': {'3018': 2}, 'tels': {'(+216) 74 86 30 47': 2, '(+216) 74 86 25 00': 2, '(+216) 74 86 30 37': 2}}, 'ENIM': {'mails': {'enim@enim.rnu.tn': 3}, 'code': {'5019': 2}, 'tels': {'(+216) 73 50 05 11': 2, '(+216) 73 50 05 14': 4}}, 'ENIS': {'mails': {'webmaster@enis.tn': 4}, 'code': {'3038': 2}, 'tels': {'(+216) 70 25 85 20': 2, '(+216) 74 27 55 95': 1}}, 'FSEGMA': {'mails': {'fsegma@fsegma.rnu.tn': 2}, 'code': {'5111': 1}, 'tels': {'(+216) 73 68 31 91': 1, '(+216) 73 68 31 92': 1}}, 'FSEGS': {'mails': {'contact@fsegs.rnu.tn': 1}, 'code': {'3018': 1}, 'tels': {'(+216) 74 27 87 77': 1, '(+216) 74 27 91 39': 1}}, 'FSM': {'mails': {'fsm@fsm.rnu.tn': 1}, 'code': {'5019': 2}, 'tels': {'(+216) 73 50 02 76': 1, '(+216) 73 50 02 78': 1}}, 'FSS': {'mails': {'contact@fss.rnu.tn': 3}, 'code': {'3000': 2}, 'tels': {'(+216) 74 27 64 00': 2, '(+216) 74 27 67 63': 2, '(+216) 74 27 44 37': 2}}, 'ISGIS': {'mails': {'direction.isgis@isgis.usf.tn': 2}, 'code': {'3021': 4}, 'tels': {'(+216) 74 86 30 90': 1, '(+216) 74 86 30 92': 1}}, 'ISIMa': {'mails': {'isima@isima.rnu.tn': 1}, 'code': {'5111': 1}, 'tels': {'(+216) 73 68 31 00': 1, '(+216) 73 68 31 20': 1}}}\n"
     ]
    }
   ],
   "source": [
    "dict_of_matches = [fetch_matches_from_sys_file(f) for f in get_htm_files()]\n",
    "sys_contacts = reduce(merge_dictionaries, dict_of_matches)\n",
    "print(sys_contacts)"
   ]
  },
  {
   "cell_type": "code",
   "execution_count": 937,
   "metadata": {},
   "outputs": [],
   "source": [
    "def trait_ref_file(url='./ref.txt'):\n",
    "    ref = pd.read_csv(url, delimiter='\\t', names=['File', 'Type', 'Value', 'Counts'])\n",
    "    ref['Counts'] = ref['Counts'].astype('int')\n",
    "    ref_matches = {}\n",
    "    for _, row in ref.iterrows():\n",
    "        if row['File'] not in ref_matches: ref_matches[row['File']] = {'mails' : {}, 'code' : {}, 'tels' : {}}\n",
    "        if row['Type'] == 'fax':\n",
    "            if row['Value'] not in ref_matches[row['File']]['tels']:\n",
    "                ref_matches[row['File']]['tels'][row['Value']] = row['Counts']\n",
    "            else: ref_matches[row['File']]['tels'][row['Value']] += row['Counts']\n",
    "        else:\n",
    "            ref_matches[row['File']][row['Type']][row['Value']] = row['Counts']\n",
    "    return ref_matches"
   ]
  },
  {
   "cell_type": "code",
   "execution_count": 938,
   "metadata": {},
   "outputs": [
    {
     "name": "stdout",
     "output_type": "stream",
     "text": [
      "{'ENIS': {'mails': {'webmaster@enis.tn': 4}, 'code': {'3038': 2}, 'tels': {'(+216) 70 25 85 20': 2, '(+216) 74 27 55 95': 1}}, \"ENET'Com\": {'mails': {'contact@enetcom.usf.tn': 3}, 'code': {'3018': 2}, 'tels': {'(+216) 74 86 30 47': 2, '(+216) 74 86 25 00': 2, '(+216) 74 86 30 37': 2}}, 'ENIM': {'mails': {'enim@enim.rnu.tn': 3}, 'code': {'5019': 2}, 'tels': {'(+216) 73 50 05 11': 2, '(+216) 73 50 05 14': 4}}, 'ISIMa': {'mails': {'isima@isima.rnu.tn': 1}, 'code': {'5111': 1}, 'tels': {'(+216) 73 68 31 00': 1, '(+216) 73 68 31 20': 1}}, 'ISGIS': {'mails': {'direction.isgis@isgis.usf.tn': 2}, 'code': {'3021': 4}, 'tels': {'(+216) 74 86 30 90': 1, '(+216) 74 86 30 92': 1}}, 'FSS': {'mails': {'contact@fss.rnu.tn': 3}, 'code': {'3000': 2}, 'tels': {'(+216) 74 27 64 00': 2, '(+216) 74 27 67 63': 2, '(+216) 74 27 44 37': 2}}, 'FSM': {'mails': {'fsm@fsm.rnu.tn': 1}, 'code': {'5019': 2}, 'tels': {'(+216) 73 50 02 76': 1, '(+216) 73 50 02 78': 1}}, 'FSEGS': {'mails': {'contact@fsegs.rnu.tn': 1}, 'code': {'3018': 1}, 'tels': {'(+216) 74 27 87 77': 1, '(+216) 74 27 91 39': 1}}, 'FSEGMA': {'mails': {'fsegma@fsegma.rnu.tn': 2}, 'code': {'5111': 1}, 'tels': {'(+216) 73 68 31 91': 1, '(+216) 73 68 31 92': 1}}}\n"
     ]
    }
   ],
   "source": [
    "print(trait_ref_file())"
   ]
  },
  {
   "cell_type": "code",
   "execution_count": 939,
   "metadata": {},
   "outputs": [],
   "source": [
    "def comparer(sys_contacts, ref_contacts):\n",
    "    print(ref_contacts)\n",
    "    print(sys_contacts)\n",
    "    INT = 0 # taille ref intersection sys\n",
    "    SYS = 0 # taille sys\n",
    "    REF = 0 # taille ref\n",
    "    resultat = {}\n",
    "    for fichier in ref_contacts:\n",
    "        resultat[fichier] = {}\n",
    "\n",
    "        ref_types = ref_contacts[fichier]\n",
    "        if fichier in sys_contacts:\n",
    "            sys_types = sys_contacts[fichier]\n",
    "        else:\n",
    "            sys_types = None\n",
    "\n",
    "        for type in ['mails', 'code', 'tels']:\n",
    "            res_elements = resultat[fichier][type] = {}\n",
    "            for element in ref_types[type]:\n",
    "                ref_nbr = ref_types[type][element]\n",
    "                sys_nbr = 0\n",
    "                if (sys_types != None) and (element in sys_types[type]):\n",
    "                    sys_nbr = sys_types[type][element]\n",
    "                res_elements[element] = 'sys(' + str(sys_nbr) + '), ref(' + str(ref_nbr) + ')'\n",
    "                SYS += sys_nbr\n",
    "                REF += ref_nbr\n",
    "                INT += min(sys_nbr, ref_nbr)\n",
    "            if (sys_types):\n",
    "                for element in sys_types[type]:\n",
    "                    if not element in res_elements:\n",
    "                        sys_nbr = sys_types[type][element]\n",
    "                        res_elements[element] = 'sys(' + str(sys_nbr) + '), ref(0)'\n",
    "                        SYS += sys_types[type][element]\n",
    "    R = INT / REF\n",
    "    P = 0.0 if SYS == 0 else INT / SYS\n",
    "    F1 = 0.0 if R + P == 0 else 2 * P * R / (P + R)\n",
    "    return resultat, R, P, F1"
   ]
  },
  {
   "cell_type": "code",
   "execution_count": 940,
   "metadata": {},
   "outputs": [],
   "source": [
    "# Affichage des statistiques\n",
    "def affichage(contacts):\n",
    "    for fichier in contacts:\n",
    "        print('========== ', fichier, ' ==========')\n",
    "        stats = contacts[fichier]\n",
    "        for type in stats:\n",
    "            print('------> ', type)\n",
    "            stats_type = stats[type]\n",
    "            for element in stats_type:\n",
    "                print('         ', element, ' : ', stats_type[element])"
   ]
  },
  {
   "cell_type": "code",
   "execution_count": 941,
   "metadata": {},
   "outputs": [
    {
     "name": "stdout",
     "output_type": "stream",
     "text": [
      "{'ENIS': {'mails': {'webmaster@enis.tn': 4}, 'code': {'3038': 2}, 'tels': {'(+216) 70 25 85 20': 2, '(+216) 74 27 55 95': 1}}, \"ENET'Com\": {'mails': {'contact@enetcom.usf.tn': 3}, 'code': {'3018': 2}, 'tels': {'(+216) 74 86 30 47': 2, '(+216) 74 86 25 00': 2, '(+216) 74 86 30 37': 2}}, 'ENIM': {'mails': {'enim@enim.rnu.tn': 3}, 'code': {'5019': 2}, 'tels': {'(+216) 73 50 05 11': 2, '(+216) 73 50 05 14': 4}}, 'ISIMa': {'mails': {'isima@isima.rnu.tn': 1}, 'code': {'5111': 1}, 'tels': {'(+216) 73 68 31 00': 1, '(+216) 73 68 31 20': 1}}, 'ISGIS': {'mails': {'direction.isgis@isgis.usf.tn': 2}, 'code': {'3021': 4}, 'tels': {'(+216) 74 86 30 90': 1, '(+216) 74 86 30 92': 1}}, 'FSS': {'mails': {'contact@fss.rnu.tn': 3}, 'code': {'3000': 2}, 'tels': {'(+216) 74 27 64 00': 2, '(+216) 74 27 67 63': 2, '(+216) 74 27 44 37': 2}}, 'FSM': {'mails': {'fsm@fsm.rnu.tn': 1}, 'code': {'5019': 2}, 'tels': {'(+216) 73 50 02 76': 1, '(+216) 73 50 02 78': 1}}, 'FSEGS': {'mails': {'contact@fsegs.rnu.tn': 1}, 'code': {'3018': 1}, 'tels': {'(+216) 74 27 87 77': 1, '(+216) 74 27 91 39': 1}}, 'FSEGMA': {'mails': {'fsegma@fsegma.rnu.tn': 2}, 'code': {'5111': 1}, 'tels': {'(+216) 73 68 31 91': 1, '(+216) 73 68 31 92': 1}}}\n",
      "{\"ENET'Com\": {'mails': {'contact@enetcom.usf.tn': 3}, 'code': {'3018': 2}, 'tels': {'(+216) 74 86 30 47': 2, '(+216) 74 86 25 00': 2, '(+216) 74 86 30 37': 2}}, 'ENIM': {'mails': {'enim@enim.rnu.tn': 3}, 'code': {'5019': 2}, 'tels': {'(+216) 73 50 05 11': 2, '(+216) 73 50 05 14': 4}}, 'ENIS': {'mails': {'webmaster@enis.tn': 4}, 'code': {'3038': 2}, 'tels': {'(+216) 70 25 85 20': 2, '(+216) 74 27 55 95': 1}}, 'FSEGMA': {'mails': {'fsegma@fsegma.rnu.tn': 2}, 'code': {'5111': 1}, 'tels': {'(+216) 73 68 31 91': 1, '(+216) 73 68 31 92': 1}}, 'FSEGS': {'mails': {'contact@fsegs.rnu.tn': 1}, 'code': {'3018': 1}, 'tels': {'(+216) 74 27 87 77': 1, '(+216) 74 27 91 39': 1}}, 'FSM': {'mails': {'fsm@fsm.rnu.tn': 1}, 'code': {'5019': 2}, 'tels': {'(+216) 73 50 02 76': 1, '(+216) 73 50 02 78': 1}}, 'FSS': {'mails': {'contact@fss.rnu.tn': 3}, 'code': {'3000': 2}, 'tels': {'(+216) 74 27 64 00': 2, '(+216) 74 27 67 63': 2, '(+216) 74 27 44 37': 2}}, 'ISGIS': {'mails': {'direction.isgis@isgis.usf.tn': 2}, 'code': {'3021': 4}, 'tels': {'(+216) 74 86 30 90': 1, '(+216) 74 86 30 92': 1}}, 'ISIMa': {'mails': {'isima@isima.rnu.tn': 1}, 'code': {'5111': 1}, 'tels': {'(+216) 73 68 31 00': 1, '(+216) 73 68 31 20': 1}}}\n",
      "==========  ENIS  ==========\n",
      "------>  mails\n",
      "          webmaster@enis.tn  :  sys(4), ref(4)\n",
      "------>  code\n",
      "          3038  :  sys(2), ref(2)\n",
      "------>  tels\n",
      "          (+216) 70 25 85 20  :  sys(2), ref(2)\n",
      "          (+216) 74 27 55 95  :  sys(1), ref(1)\n",
      "==========  ENET'Com  ==========\n",
      "------>  mails\n",
      "          contact@enetcom.usf.tn  :  sys(3), ref(3)\n",
      "------>  code\n",
      "          3018  :  sys(2), ref(2)\n",
      "------>  tels\n",
      "          (+216) 74 86 30 47  :  sys(2), ref(2)\n",
      "          (+216) 74 86 25 00  :  sys(2), ref(2)\n",
      "          (+216) 74 86 30 37  :  sys(2), ref(2)\n",
      "==========  ENIM  ==========\n",
      "------>  mails\n",
      "          enim@enim.rnu.tn  :  sys(3), ref(3)\n",
      "------>  code\n",
      "          5019  :  sys(2), ref(2)\n",
      "------>  tels\n",
      "          (+216) 73 50 05 11  :  sys(2), ref(2)\n",
      "          (+216) 73 50 05 14  :  sys(4), ref(4)\n",
      "==========  ISIMa  ==========\n",
      "------>  mails\n",
      "          isima@isima.rnu.tn  :  sys(1), ref(1)\n",
      "------>  code\n",
      "          5111  :  sys(1), ref(1)\n",
      "------>  tels\n",
      "          (+216) 73 68 31 00  :  sys(1), ref(1)\n",
      "          (+216) 73 68 31 20  :  sys(1), ref(1)\n",
      "==========  ISGIS  ==========\n",
      "------>  mails\n",
      "          direction.isgis@isgis.usf.tn  :  sys(2), ref(2)\n",
      "------>  code\n",
      "          3021  :  sys(4), ref(4)\n",
      "------>  tels\n",
      "          (+216) 74 86 30 90  :  sys(1), ref(1)\n",
      "          (+216) 74 86 30 92  :  sys(1), ref(1)\n",
      "==========  FSS  ==========\n",
      "------>  mails\n",
      "          contact@fss.rnu.tn  :  sys(3), ref(3)\n",
      "------>  code\n",
      "          3000  :  sys(2), ref(2)\n",
      "------>  tels\n",
      "          (+216) 74 27 64 00  :  sys(2), ref(2)\n",
      "          (+216) 74 27 67 63  :  sys(2), ref(2)\n",
      "          (+216) 74 27 44 37  :  sys(2), ref(2)\n",
      "==========  FSM  ==========\n",
      "------>  mails\n",
      "          fsm@fsm.rnu.tn  :  sys(1), ref(1)\n",
      "------>  code\n",
      "          5019  :  sys(2), ref(2)\n",
      "------>  tels\n",
      "          (+216) 73 50 02 76  :  sys(1), ref(1)\n",
      "          (+216) 73 50 02 78  :  sys(1), ref(1)\n",
      "==========  FSEGS  ==========\n",
      "------>  mails\n",
      "          contact@fsegs.rnu.tn  :  sys(1), ref(1)\n",
      "------>  code\n",
      "          3018  :  sys(1), ref(1)\n",
      "------>  tels\n",
      "          (+216) 74 27 87 77  :  sys(1), ref(1)\n",
      "          (+216) 74 27 91 39  :  sys(1), ref(1)\n",
      "==========  FSEGMA  ==========\n",
      "------>  mails\n",
      "          fsegma@fsegma.rnu.tn  :  sys(2), ref(2)\n",
      "------>  code\n",
      "          5111  :  sys(1), ref(1)\n",
      "------>  tels\n",
      "          (+216) 73 68 31 91  :  sys(1), ref(1)\n",
      "          (+216) 73 68 31 92  :  sys(1), ref(1)\n",
      "---------------------------------------------------\n",
      "R = 1.0 , P = 1.0 , F1 = 1.0\n"
     ]
    }
   ],
   "source": [
    "ref_contacts = trait_ref_file()\n",
    "comp, R, P, F1 = comparer(sys_contacts, ref_contacts)\n",
    "affichage(comp)\n",
    "print('---------------------------------------------------')\n",
    "print('R =', R, ', P =', P, ', F1 =', F1)"
   ]
  },
  {
   "cell_type": "code",
   "execution_count": null,
   "metadata": {},
   "outputs": [],
   "source": []
  }
 ],
 "metadata": {
  "kernelspec": {
   "display_name": "base",
   "language": "python",
   "name": "python3"
  },
  "language_info": {
   "codemirror_mode": {
    "name": "ipython",
    "version": 3
   },
   "file_extension": ".py",
   "mimetype": "text/x-python",
   "name": "python",
   "nbconvert_exporter": "python",
   "pygments_lexer": "ipython3",
   "version": "3.9.16"
  },
  "orig_nbformat": 4
 },
 "nbformat": 4,
 "nbformat_minor": 2
}
